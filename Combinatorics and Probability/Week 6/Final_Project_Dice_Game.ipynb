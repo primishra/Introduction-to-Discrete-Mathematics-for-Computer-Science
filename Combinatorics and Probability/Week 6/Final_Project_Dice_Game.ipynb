{
  "nbformat": 4,
  "nbformat_minor": 0,
  "metadata": {
    "colab": {
      "name": "Final Project: Dice Game.ipynb",
      "provenance": [],
      "collapsed_sections": []
    },
    "kernelspec": {
      "name": "python3",
      "display_name": "Python 3"
    }
  },
  "cells": [
    {
      "cell_type": "markdown",
      "metadata": {
        "id": "x7TksrYzbXWO"
      },
      "source": [
        "## Project Overview\r\n",
        "In this series of three programming tasks, we will implement together a program that will play optimally in a tricky dice game! You program will be given a list of dices and will decide who chooses the dice first (you or your opponent).\r\n",
        "\r\n",
        "When the dices are chosen, we will simulate 10000 throws. Each time your number is greater, you get 1 dollar from your opponent. Conversely, each time your number is smaller, you pay $1 to your opponent.\r\n",
        "\r\n",
        "Your ultimate goal is to implement a program that always wins in such a simulation."
      ]
    },
    {
      "cell_type": "markdown",
      "metadata": {
        "id": "qje25ItmbqCJ"
      },
      "source": [
        "## First Task: Compare Two Dices\r\n",
        "Implement a function that takes two dices as input and computes two values: the first value is the number of times the first dice wins (out of all possible 36 choices), the second value is the number of times the second dice wins. We say that a dice wins if the number on it is greater than the number on the other dice.\r\n",
        "\r\n",
        "To debug your implementation, use the following test cases:"
      ]
    },
    {
      "cell_type": "markdown",
      "metadata": {
        "id": "FZVyb0p6bzzX"
      },
      "source": [
        "###Sample 1\r\n",
        "\r\n",
        "Input: dice1 = [1, 2, 3, 4, 5, 6], dice2 = [1, 2, 3, 4, 5, 6]\r\n",
        "\r\n",
        "Output: (15, 15)\r\n",
        "\r\n",
        "###Sample 2\r\n",
        "\r\n",
        "Input: dice1 = [1, 1, 6, 6, 8, 8], dice2 = [2, 2, 4, 4, 9, 9]\r\n",
        "\r\n",
        "Output: (16, 20)"
      ]
    },
    {
      "cell_type": "code",
      "metadata": {
        "colab": {
          "base_uri": "https://localhost:8080/"
        },
        "id": "3jYZxEH5b3mZ",
        "outputId": "123a0cd2-cc75-424d-d09c-ab50f7585f53"
      },
      "source": [
        "def count_wins(dice1, dice2):\r\n",
        "    assert len(dice1) == 6 and len(dice2) == 6\r\n",
        "    dice1_wins, dice2_wins = 0, 0\r\n",
        "    \r\n",
        "    # write your code \r\n",
        "    equal = 0\r\n",
        "    for i in range(6):\r\n",
        "        for j in range(6):\r\n",
        "            if dice1[i] > dice2[j]:\r\n",
        "                dice1_wins += 1\r\n",
        "            if dice1[i] == dice2[j]:\r\n",
        "                equal += 1\r\n",
        "    \r\n",
        "    dice2_wins = 36 - dice1_wins - equal\r\n",
        "    return (dice1_wins, dice2_wins)\r\n",
        "\r\n",
        "print(count_wins([1, 2, 3, 4, 5, 6], [1, 2, 3, 4, 5, 6]))\r\n",
        "print(count_wins([1, 1, 6, 6, 8, 8], [2, 2, 4, 4, 9, 9]))"
      ],
      "execution_count": 1,
      "outputs": [
        {
          "output_type": "stream",
          "text": [
            "(15, 15)\n",
            "(16, 20)\n"
          ],
          "name": "stdout"
        }
      ]
    },
    {
      "cell_type": "markdown",
      "metadata": {
        "id": "_hfcp7ehcCrx"
      },
      "source": [
        "## Second Task: Is there the Best Dice?\r\n",
        "Now, your goal is to check whether among the three given dices there is one that is better than the remaining two dices.\r\n",
        "\r\n",
        "Implement a function that takes a list of dices and checks whether there is dice (in this list) that is better than all other dices. We say that a dice is better than another one, if it wins more frequently (that is, out of all 36 possibilities, it wins in aa cases, while the second one wins in bb cases, and a>ba>b). If there is such a dice, return its (0-based) index. Otherwise, return -1."
      ]
    },
    {
      "cell_type": "markdown",
      "metadata": {
        "id": "dV33BkD1cJUh"
      },
      "source": [
        "Use the following datasets for debugging:\r\n",
        "\r\n",
        "###Sample 1\r\n",
        "\r\n",
        "Input: [[1, 1, 6, 6, 8, 8], [2, 2, 4, 4, 9, 9], [3, 3, 5, 5, 7, 7]]\r\n",
        "\r\n",
        "Output: -1\r\n",
        "\r\n",
        "###Sample 2\r\n",
        "\r\n",
        "Input: [[1, 1, 2, 4, 5, 7], [1, 2, 2, 3, 4, 7], [1, 2, 3, 4, 5, 6]]\r\n",
        "\r\n",
        "Output: 2\r\n",
        "\r\n",
        "###Sample 3\r\n",
        "\r\n",
        "Input: [[3, 3, 3, 3, 3, 3], [6, 6, 2, 2, 2,\r\n",
        "                          2], [4, 4, 4, 4, 0, 0], [5, 5, 5, 1, 1, 1]]\r\n",
        "\r\n",
        "Output: -1"
      ]
    },
    {
      "cell_type": "code",
      "metadata": {
        "colab": {
          "base_uri": "https://localhost:8080/"
        },
        "id": "I8E8EA0eb8Uh",
        "outputId": "d59e32e6-ee73-4806-c968-5840161e5d9b"
      },
      "source": [
        "def count_wins(dice1, dice2):\r\n",
        "    assert len(dice1) == 6 and len(dice2) == 6\r\n",
        "    dice1_wins, dice2_wins = 0, 0\r\n",
        "\r\n",
        "    equal = 0\r\n",
        "    for i in range(6):\r\n",
        "        for j in range(6):\r\n",
        "            if dice1[i] > dice2[j]:\r\n",
        "                dice1_wins += 1\r\n",
        "            if dice1[i] == dice2[j]:\r\n",
        "                equal += 1\r\n",
        "    dice2_wins = 36 - dice1_wins - equal\r\n",
        "    return (dice1_wins, dice2_wins)\r\n",
        "\r\n",
        "\r\n",
        "\r\n",
        "def find_the_best_dice(dices):\r\n",
        "    assert all(len(dice) == 6 for dice in dices)\r\n",
        "\r\n",
        "    for i in range(len(dices)):\r\n",
        "        status = []\r\n",
        "        for j in range(len(dices)):\r\n",
        "            if i != j:\r\n",
        "                dice1_wins, dice2_wins = count_wins(dices[i], dices[j])\r\n",
        "                if dice1_wins > dice2_wins:\r\n",
        "                    status.append(1)\r\n",
        "        if status.count(1) == len(dices) - 1:\r\n",
        "            return i\r\n",
        "\r\n",
        "   \r\n",
        "    return -1\r\n",
        "\r\n",
        "print(find_the_best_dice([[1, 1, 6, 6, 8, 8], [2, 2, 4, 4, 9, 9], [3, 3, 5, 5, 7, 7]]))\r\n",
        "print(find_the_best_dice([[1, 1, 2, 4, 5, 7], [1, 2, 2, 3, 4, 7], [1, 2, 3, 4, 5, 6]]))\r\n",
        "print(find_the_best_dice([[3, 3, 3, 3, 3, 3], [6, 6, 2, 2, 2, 2], [4, 4, 4, 4, 0, 0], [5, 5, 5, 1, 1, 1]]))"
      ],
      "execution_count": 3,
      "outputs": [
        {
          "output_type": "stream",
          "text": [
            "-1\n",
            "2\n",
            "-1\n"
          ],
          "name": "stdout"
        }
      ]
    },
    {
      "cell_type": "markdown",
      "metadata": {
        "id": "VX2zNoiFcQa_"
      },
      "source": [
        "## Third Task: Implement a Strategy\r\n",
        "You are now ready to play!\r\n",
        "\r\n",
        "Implement a function that takes a list of dices (possibly more than three) and returns a strategy. The strategy is a dictionary:\r\n",
        "\r\n",
        "If, after analyzing the given list of dices, you decide to choose a dice first, set strategy[\"choose_first\"] to True and set strategy[\"first_dice\"] to be the (0-based) index of the dice you would like to choose\r\n",
        "\r\n",
        "If you would like to be the second one to choose a dice, set strategy[\"choose_first\"] to False. Then, specify, for each dice that your opponent may take, the dice that you would take in return. Namely, for each i from 0 to len(dices)-1, set strategy[i] to an index j of the dice that you would take if the opponent takes the i-th dice first."
      ]
    },
    {
      "cell_type": "markdown",
      "metadata": {
        "id": "r1lPCPCBcWEt"
      },
      "source": [
        "Use the following datasets for debugging:\r\n",
        "\r\n",
        "###Sample 1\r\n",
        "\r\n",
        "Input: [[1, 1, 4, 6, 7, 8], [2, 2, 2, 6, 7, 7], [3, 3, 3, 5, 5, 8]]\r\n",
        "\r\n",
        "Output: {'choose_first': False, 0: 1, 1: 2, 2: 0}\r\n",
        "\r\n",
        "###Sample 2\r\n",
        "\r\n",
        "Input: [[4, 4, 4, 4, 0, 0], [7, 7, 3, 3, 3, 3], [6, 6, 2, 2, 2, 2], [5, 5, 5, 1, 1, 1]]\r\n",
        "\r\n",
        "Output: {'choose_first': True, 'first_dice': 1}"
      ]
    },
    {
      "cell_type": "markdown",
      "metadata": {
        "id": "Kk1WHeLtceT4"
      },
      "source": [
        "Note that your answers do not have to coincide with the answers above. First, the order of elements does not matter in the dictionary. Second, the dictionary might contain extra information that is not required in the statement of the problem. For example, {0: 3, 'first_dice': 1, 'choose_first': True} is also a correct output in Sample 2."
      ]
    },
    {
      "cell_type": "code",
      "metadata": {
        "colab": {
          "base_uri": "https://localhost:8080/"
        },
        "id": "C1meYuMpcPWB",
        "outputId": "06ca5d87-2406-40ee-e07f-2eb5c46bff20"
      },
      "source": [
        "def count_wins(dice1, dice2):\r\n",
        "    assert len(dice1) == 6 and len(dice2) == 6\r\n",
        "    dice1_wins, dice2_wins = 0, 0\r\n",
        "\r\n",
        "    equal = 0\r\n",
        "    for i in range(6):\r\n",
        "        for j in range(6):\r\n",
        "            if dice1[i] > dice2[j]:\r\n",
        "                dice1_wins += 1\r\n",
        "            if dice1[i] == dice2[j]:\r\n",
        "                equal += 1\r\n",
        "    dice2_wins = 36 - dice1_wins - equal\r\n",
        "    return (dice1_wins, dice2_wins)\r\n",
        "\r\n",
        "\r\n",
        "def find_the_best_dice(dices):\r\n",
        "    assert all(len(dice) == 6 for dice in dices)\r\n",
        "\r\n",
        "    for i in range(len(dices)):\r\n",
        "        status = []\r\n",
        "        for j in range(len(dices)):\r\n",
        "            if i != j:\r\n",
        "                dice1_wins, dice2_wins = count_wins(dices[i], dices[j])\r\n",
        "                if dice1_wins > dice2_wins:\r\n",
        "                    status.append(1)\r\n",
        "        if status.count(1) == len(dices) - 1:\r\n",
        "            return i\r\n",
        "    return -1\r\n",
        "\r\n",
        "\r\n",
        "\r\n",
        "\r\n",
        "\r\n",
        "def compute_strategy(dices):\r\n",
        "    assert all(len(dice) == 6 for dice in dices)\r\n",
        "\r\n",
        "    strategy = dict()\r\n",
        "    strategy[\"choose_first\"] = True\r\n",
        "    strategy[\"first_dice\"] = 0\r\n",
        "    for i in range(len(dices)):\r\n",
        "        strategy[i] = (i + 1) % len(dices)\r\n",
        "        \r\n",
        "    # write your code here\r\n",
        "    res = find_the_best_dice(dices)\r\n",
        "    if res != -1:\r\n",
        "        strategy[\"first_dice\"] = res\r\n",
        "    else:\r\n",
        "        strategy[\"choose_first\"] = False\r\n",
        "        \r\n",
        "        for i in range(len(dices)):\r\n",
        "            for j in range(len(dices)):\r\n",
        "                if i != j:\r\n",
        "                    dice1_wins, dice2_wins = count_wins(dices[i], dices[j])\r\n",
        "                    if dice1_wins < dice2_wins:\r\n",
        "                        break\r\n",
        "            strategy[i] = j\r\n",
        "    return strategy\r\n",
        "\r\n",
        "print(compute_strategy([[1, 1, 4, 6, 7, 8], [2, 2, 2, 6, 7, 7], [3, 3, 3, 5, 5, 8]]))\r\n",
        "print(compute_strategy([[4, 4, 4, 4, 0, 0], [7, 7, 3, 3, 3, 3], [6, 6, 2, 2, 2, 2], [5, 5, 5, 1, 1, 1]]))"
      ],
      "execution_count": 4,
      "outputs": [
        {
          "output_type": "stream",
          "text": [
            "{'choose_first': False, 'first_dice': 0, 0: 1, 1: 2, 2: 0}\n",
            "{'choose_first': True, 'first_dice': 1, 0: 1, 1: 2, 2: 3, 3: 0}\n"
          ],
          "name": "stdout"
        }
      ]
    },
    {
      "cell_type": "markdown",
      "metadata": {
        "id": "0scimQ5FhFXO"
      },
      "source": [
        "Congratulations! You have won in all games! Here is the log of one of such games. \r\n",
        "\r\n",
        "Simulating the game for the following list of dices: [[1, 4, 5, 6, 9, 10], [2, 2, 3, 7, 11, 11], [3, 4, 4, 5, 6, 12]].\r\n",
        "     You decided to be the second one to choose a dice.\r\n",
        "     Your opponent chose the dice [3, 4, 4, 5, 6, 12].\r\n",
        "     You chose the dice [1, 4, 5, 6, 9, 10].\r\n",
        "     Simulating 10000 rounds.\r\n",
        "     Out of 10000 rounds, you won 4995 times, your opponent won 3930 times (and there were 1075 ties). You gained $1065!"
      ]
    },
    {
      "cell_type": "code",
      "metadata": {
        "id": "CeFZPGUZhHoM"
      },
      "source": [
        ""
      ],
      "execution_count": null,
      "outputs": []
    }
  ]
}