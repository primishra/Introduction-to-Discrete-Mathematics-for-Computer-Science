{
  "nbformat": 4,
  "nbformat_minor": 0,
  "metadata": {
    "colab": {
      "name": "Experiment: Dice Game.ipynb",
      "provenance": []
    },
    "kernelspec": {
      "name": "python3",
      "display_name": "Python 3"
    }
  },
  "cells": [
    {
      "cell_type": "code",
      "metadata": {
        "colab": {
          "base_uri": "https://localhost:8080/"
        },
        "id": "kqICtaVgsOHn",
        "outputId": "db6f73e3-7d65-4864-d8fa-5f6dac38fab9"
      },
      "source": [
        "from random import randint, seed\r\n",
        "from datetime import datetime\r\n",
        "\r\n",
        "seed(datetime.now())\r\n",
        "\r\n",
        "dice1=[2, 2, 2, 2, 3, 3]\r\n",
        "dice2=[1, 1, 1, 1, 6, 6]\r\n",
        "\r\n",
        "num_rounds = 10**5\r\n",
        "\r\n",
        "assert len(dice1) == 6 and len(dice2) == 6\r\n",
        "\r\n",
        "num_dice1_wins = 0\r\n",
        "num_dice2_wins = 0\r\n",
        "\r\n",
        "for _ in range(num_rounds):\r\n",
        "    dice1_result = dice1[randint(0, 5)]\r\n",
        "    dice2_result = dice2[randint(0, 5)]\r\n",
        "\r\n",
        "    if dice1_result > dice2_result:\r\n",
        "            num_dice1_wins += 1\r\n",
        "    elif dice2_result > dice1_result:\r\n",
        "            num_dice2_wins += 1\r\n",
        "\r\n",
        "if num_dice1_wins > num_dice2_wins:\r\n",
        "        print(\"The dice {} is better than {}:\\nout of {} rounds it won {} times more\".format(dice1, dice2, num_rounds, num_dice1_wins-num_dice2_wins))\r\n",
        "elif num_dice2_wins > num_dice1_wins:\r\n",
        "        print(\"The dice {} is better than {}:\\nout of {} rounds it won {} times more\".format(dice2, dice1, num_rounds, num_dice2_wins-num_dice1_wins))\r\n",
        "else:\r\n",
        "        print(\"A tie\")\r\n"
      ],
      "execution_count": 1,
      "outputs": [
        {
          "output_type": "stream",
          "text": [
            "The dice [2, 2, 2, 2, 3, 3] is better than [1, 1, 1, 1, 6, 6]:\n",
            "out of 100000 rounds it won 33370 times more\n"
          ],
          "name": "stdout"
        }
      ]
    },
    {
      "cell_type": "code",
      "metadata": {
        "id": "bt2BCY79s7Cr"
      },
      "source": [
        ""
      ],
      "execution_count": null,
      "outputs": []
    }
  ]
}