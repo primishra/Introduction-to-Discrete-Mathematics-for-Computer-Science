{
  "nbformat": 4,
  "nbformat_minor": 0,
  "metadata": {
    "colab": {
      "name": "Numbers with Fixed Sum of Digits.ipynb",
      "provenance": [],
      "collapsed_sections": []
    },
    "kernelspec": {
      "name": "python3",
      "display_name": "Python 3"
    }
  },
  "cells": [
    {
      "cell_type": "code",
      "metadata": {
        "id": "08plNq24vdyZ"
      },
      "source": [
        "import itertools as it"
      ],
      "execution_count": 1,
      "outputs": []
    },
    {
      "cell_type": "code",
      "metadata": {
        "id": "e2KSGYfrvmD0",
        "outputId": "a782c762-98ed-4cd3-b4c0-6b4021e83ff4",
        "colab": {
          "base_uri": "https://localhost:8080/"
        }
      },
      "source": [
        "## How many non-negative integer numbers are there below 10000 such that their sum of digits is equal to 9?\n",
        "\n",
        "count = 0\n",
        "\n",
        "for number in it.product(range(10), repeat = 4):\n",
        "  if sum(number) == 9:\n",
        "    count += 1\n",
        "print(count)"
      ],
      "execution_count": 4,
      "outputs": [
        {
          "output_type": "stream",
          "text": [
            "220\n"
          ],
          "name": "stdout"
        }
      ]
    },
    {
      "cell_type": "code",
      "metadata": {
        "id": "Evkq6V9dv4KA",
        "outputId": "efe17641-3052-4093-d937-78f5a579fd6b",
        "colab": {
          "base_uri": "https://localhost:8080/"
        }
      },
      "source": [
        "## How many non-negative integer numbers are there below 10000 such that their sum of digits is equal to 10?\n",
        "\n",
        "count = 0\n",
        "\n",
        "for number in it.product(range(10), repeat = 4):\n",
        "  if sum(number) == 10:\n",
        "    count += 1\n",
        "print(count)"
      ],
      "execution_count": 5,
      "outputs": [
        {
          "output_type": "stream",
          "text": [
            "282\n"
          ],
          "name": "stdout"
        }
      ]
    },
    {
      "cell_type": "code",
      "metadata": {
        "id": "fiuAXHErwAYi"
      },
      "source": [
        ""
      ],
      "execution_count": null,
      "outputs": []
    }
  ]
}