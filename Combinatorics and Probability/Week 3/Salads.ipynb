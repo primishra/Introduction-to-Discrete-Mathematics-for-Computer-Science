{
  "nbformat": 4,
  "nbformat_minor": 0,
  "metadata": {
    "colab": {
      "name": "Salads.ipynb",
      "provenance": [],
      "collapsed_sections": []
    },
    "kernelspec": {
      "name": "python3",
      "display_name": "Python 3"
    }
  },
  "cells": [
    {
      "cell_type": "markdown",
      "metadata": {
        "id": "hyI26sLrtHGi"
      },
      "source": [
        "We have an unlimited supply of tomatoes, bell peppers and lettuce. We want to make a salad out of 4 units among these three ingredients (we do not have to use all ingredients). The order in which we use the ingredients does not matter. How many different salads we can make?"
      ]
    },
    {
      "cell_type": "code",
      "metadata": {
        "id": "L3ZeQ3e3tO1L"
      },
      "source": [
        "from itertools import combinations_with_replacement\n",
        "\n",
        "salads = [\"\".join(salad) for salad in combinations_with_replacement(\"TBL\", 4)]"
      ],
      "execution_count": 3,
      "outputs": []
    },
    {
      "cell_type": "code",
      "metadata": {
        "id": "F74YsQAhthVB",
        "outputId": "07e4aed6-9859-4753-aa48-ae9bfbca7491",
        "colab": {
          "base_uri": "https://localhost:8080/"
        }
      },
      "source": [
        "salads"
      ],
      "execution_count": 4,
      "outputs": [
        {
          "output_type": "execute_result",
          "data": {
            "text/plain": [
              "['TTTT',\n",
              " 'TTTB',\n",
              " 'TTTL',\n",
              " 'TTBB',\n",
              " 'TTBL',\n",
              " 'TTLL',\n",
              " 'TBBB',\n",
              " 'TBBL',\n",
              " 'TBLL',\n",
              " 'TLLL',\n",
              " 'BBBB',\n",
              " 'BBBL',\n",
              " 'BBLL',\n",
              " 'BLLL',\n",
              " 'LLLL']"
            ]
          },
          "metadata": {
            "tags": []
          },
          "execution_count": 4
        }
      ]
    },
    {
      "cell_type": "code",
      "metadata": {
        "id": "O2eS7k7gt0-x",
        "outputId": "b31572e0-11a8-4261-b63b-812f25a59f27",
        "colab": {
          "base_uri": "https://localhost:8080/"
        }
      },
      "source": [
        "len(salads)"
      ],
      "execution_count": 5,
      "outputs": [
        {
          "output_type": "execute_result",
          "data": {
            "text/plain": [
              "15"
            ]
          },
          "metadata": {
            "tags": []
          },
          "execution_count": 5
        }
      ]
    },
    {
      "cell_type": "code",
      "metadata": {
        "id": "SRd-Lo1mt2ly"
      },
      "source": [
        "salads_1 = [\"\".join(salad) for salad in combinations_with_replacement(\"TBLE\", 7)]"
      ],
      "execution_count": 6,
      "outputs": []
    },
    {
      "cell_type": "code",
      "metadata": {
        "id": "PXfGu3jwx12e",
        "outputId": "7236c1f5-0bc4-424b-feaa-8046098c6627",
        "colab": {
          "base_uri": "https://localhost:8080/"
        }
      },
      "source": [
        "salads_1"
      ],
      "execution_count": 7,
      "outputs": [
        {
          "output_type": "execute_result",
          "data": {
            "text/plain": [
              "['TTTTTTT',\n",
              " 'TTTTTTB',\n",
              " 'TTTTTTL',\n",
              " 'TTTTTTE',\n",
              " 'TTTTTBB',\n",
              " 'TTTTTBL',\n",
              " 'TTTTTBE',\n",
              " 'TTTTTLL',\n",
              " 'TTTTTLE',\n",
              " 'TTTTTEE',\n",
              " 'TTTTBBB',\n",
              " 'TTTTBBL',\n",
              " 'TTTTBBE',\n",
              " 'TTTTBLL',\n",
              " 'TTTTBLE',\n",
              " 'TTTTBEE',\n",
              " 'TTTTLLL',\n",
              " 'TTTTLLE',\n",
              " 'TTTTLEE',\n",
              " 'TTTTEEE',\n",
              " 'TTTBBBB',\n",
              " 'TTTBBBL',\n",
              " 'TTTBBBE',\n",
              " 'TTTBBLL',\n",
              " 'TTTBBLE',\n",
              " 'TTTBBEE',\n",
              " 'TTTBLLL',\n",
              " 'TTTBLLE',\n",
              " 'TTTBLEE',\n",
              " 'TTTBEEE',\n",
              " 'TTTLLLL',\n",
              " 'TTTLLLE',\n",
              " 'TTTLLEE',\n",
              " 'TTTLEEE',\n",
              " 'TTTEEEE',\n",
              " 'TTBBBBB',\n",
              " 'TTBBBBL',\n",
              " 'TTBBBBE',\n",
              " 'TTBBBLL',\n",
              " 'TTBBBLE',\n",
              " 'TTBBBEE',\n",
              " 'TTBBLLL',\n",
              " 'TTBBLLE',\n",
              " 'TTBBLEE',\n",
              " 'TTBBEEE',\n",
              " 'TTBLLLL',\n",
              " 'TTBLLLE',\n",
              " 'TTBLLEE',\n",
              " 'TTBLEEE',\n",
              " 'TTBEEEE',\n",
              " 'TTLLLLL',\n",
              " 'TTLLLLE',\n",
              " 'TTLLLEE',\n",
              " 'TTLLEEE',\n",
              " 'TTLEEEE',\n",
              " 'TTEEEEE',\n",
              " 'TBBBBBB',\n",
              " 'TBBBBBL',\n",
              " 'TBBBBBE',\n",
              " 'TBBBBLL',\n",
              " 'TBBBBLE',\n",
              " 'TBBBBEE',\n",
              " 'TBBBLLL',\n",
              " 'TBBBLLE',\n",
              " 'TBBBLEE',\n",
              " 'TBBBEEE',\n",
              " 'TBBLLLL',\n",
              " 'TBBLLLE',\n",
              " 'TBBLLEE',\n",
              " 'TBBLEEE',\n",
              " 'TBBEEEE',\n",
              " 'TBLLLLL',\n",
              " 'TBLLLLE',\n",
              " 'TBLLLEE',\n",
              " 'TBLLEEE',\n",
              " 'TBLEEEE',\n",
              " 'TBEEEEE',\n",
              " 'TLLLLLL',\n",
              " 'TLLLLLE',\n",
              " 'TLLLLEE',\n",
              " 'TLLLEEE',\n",
              " 'TLLEEEE',\n",
              " 'TLEEEEE',\n",
              " 'TEEEEEE',\n",
              " 'BBBBBBB',\n",
              " 'BBBBBBL',\n",
              " 'BBBBBBE',\n",
              " 'BBBBBLL',\n",
              " 'BBBBBLE',\n",
              " 'BBBBBEE',\n",
              " 'BBBBLLL',\n",
              " 'BBBBLLE',\n",
              " 'BBBBLEE',\n",
              " 'BBBBEEE',\n",
              " 'BBBLLLL',\n",
              " 'BBBLLLE',\n",
              " 'BBBLLEE',\n",
              " 'BBBLEEE',\n",
              " 'BBBEEEE',\n",
              " 'BBLLLLL',\n",
              " 'BBLLLLE',\n",
              " 'BBLLLEE',\n",
              " 'BBLLEEE',\n",
              " 'BBLEEEE',\n",
              " 'BBEEEEE',\n",
              " 'BLLLLLL',\n",
              " 'BLLLLLE',\n",
              " 'BLLLLEE',\n",
              " 'BLLLEEE',\n",
              " 'BLLEEEE',\n",
              " 'BLEEEEE',\n",
              " 'BEEEEEE',\n",
              " 'LLLLLLL',\n",
              " 'LLLLLLE',\n",
              " 'LLLLLEE',\n",
              " 'LLLLEEE',\n",
              " 'LLLEEEE',\n",
              " 'LLEEEEE',\n",
              " 'LEEEEEE',\n",
              " 'EEEEEEE']"
            ]
          },
          "metadata": {
            "tags": []
          },
          "execution_count": 7
        }
      ]
    },
    {
      "cell_type": "code",
      "metadata": {
        "id": "pYaHp8z4x3WK",
        "outputId": "1de4db04-7b06-4b9b-8686-342107fd24fe",
        "colab": {
          "base_uri": "https://localhost:8080/"
        }
      },
      "source": [
        "len(salads_1)"
      ],
      "execution_count": 8,
      "outputs": [
        {
          "output_type": "execute_result",
          "data": {
            "text/plain": [
              "120"
            ]
          },
          "metadata": {
            "tags": []
          },
          "execution_count": 8
        }
      ]
    },
    {
      "cell_type": "code",
      "metadata": {
        "id": "Rag1wdmLx5-V"
      },
      "source": [
        ""
      ],
      "execution_count": null,
      "outputs": []
    }
  ]
}