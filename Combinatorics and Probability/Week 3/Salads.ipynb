{
  "nbformat": 4,
  "nbformat_minor": 0,
  "metadata": {
    "colab": {
      "name": "Salads.ipynb",
      "provenance": [],
      "collapsed_sections": []
    },
    "kernelspec": {
      "name": "python3",
      "display_name": "Python 3"
    }
  },
  "cells": [
    {
      "cell_type": "markdown",
      "metadata": {
        "id": "hyI26sLrtHGi"
      },
      "source": [
        "We have an unlimited supply of tomatoes, bell peppers and lettuce. We want to make a salad out of 4 units among these three ingredients (we do not have to use all ingredients). The order in which we use the ingredients does not matter. How many different salads we can make?"
      ]
    },
    {
      "cell_type": "code",
      "metadata": {
        "id": "L3ZeQ3e3tO1L"
      },
      "source": [
        "from itertools import combinations_with_replacement\n",
        "\n",
        "salads = [\"\".join(salad) for salad in combinations_with_replacement(\"TBL\", 4)]"
      ],
      "execution_count": 3,
      "outputs": []
    },
    {
      "cell_type": "code",
      "metadata": {
        "id": "F74YsQAhthVB",
        "outputId": "07e4aed6-9859-4753-aa48-ae9bfbca7491",
        "colab": {
          "base_uri": "https://localhost:8080/"
        }
      },
      "source": [
        "salads"
      ],
      "execution_count": 4,
      "outputs": [
        {
          "output_type": "execute_result",
          "data": {
            "text/plain": [
              "['TTTT',\n",
              " 'TTTB',\n",
              " 'TTTL',\n",
              " 'TTBB',\n",
              " 'TTBL',\n",
              " 'TTLL',\n",
              " 'TBBB',\n",
              " 'TBBL',\n",
              " 'TBLL',\n",
              " 'TLLL',\n",
              " 'BBBB',\n",
              " 'BBBL',\n",
              " 'BBLL',\n",
              " 'BLLL',\n",
              " 'LLLL']"
            ]
          },
          "metadata": {
            "tags": []
          },
          "execution_count": 4
        }
      ]
    },
    {
      "cell_type": "code",
      "metadata": {
        "id": "O2eS7k7gt0-x",
        "outputId": "b31572e0-11a8-4261-b63b-812f25a59f27",
        "colab": {
          "base_uri": "https://localhost:8080/"
        }
      },
      "source": [
        "len(salads)"
      ],
      "execution_count": 5,
      "outputs": [
        {
          "output_type": "execute_result",
          "data": {
            "text/plain": [
              "15"
            ]
          },
          "metadata": {
            "tags": []
          },
          "execution_count": 5
        }
      ]
    },
    {
      "cell_type": "code",
      "metadata": {
        "id": "SRd-Lo1mt2ly"
      },
      "source": [
        ""
      ],
      "execution_count": null,
      "outputs": []
    }
  ]
}