{
  "nbformat": 4,
  "nbformat_minor": 0,
  "metadata": {
    "colab": {
      "name": "Average Value of a Dice Throw: Experiment.ipynb",
      "provenance": []
    },
    "kernelspec": {
      "name": "python3",
      "display_name": "Python 3"
    }
  },
  "cells": [
    {
      "cell_type": "code",
      "metadata": {
        "id": "3rD4CKV3i9j2"
      },
      "source": [
        "## The following code simulates an experiment we discussed in the previous video: we simulate a dice throw 100000 times and compute the average value."
      ],
      "execution_count": 2,
      "outputs": []
    },
    {
      "cell_type": "code",
      "metadata": {
        "colab": {
          "base_uri": "https://localhost:8080/"
        },
        "id": "avzHoHORjSgA",
        "outputId": "ac18041f-b435-4924-c0dd-a5c160f4d460"
      },
      "source": [
        "from random import randint, seed\r\n",
        "from datetime import datetime\r\n",
        "\r\n",
        "seed(datetime.now())\r\n",
        "\r\n",
        "num_rounds = 10**5\r\n",
        "sum_of_values = 0\r\n",
        "\r\n",
        "for _ in range(num_rounds):\r\n",
        "    sum_of_values += randint(1, 6)\r\n",
        "    \r\n",
        "print(\"The average is {}\".format(sum_of_values/(num_rounds*1.0)))"
      ],
      "execution_count": 3,
      "outputs": [
        {
          "output_type": "stream",
          "text": [
            "The average is 3.49426\n"
          ],
          "name": "stdout"
        }
      ]
    },
    {
      "cell_type": "code",
      "metadata": {
        "colab": {
          "base_uri": "https://localhost:8080/"
        },
        "id": "H0J5XkCAjbcQ",
        "outputId": "9153de26-e2d8-46c2-a5bd-d7c6ab60da00"
      },
      "source": [
        "from random import randint, seed\r\n",
        "from datetime import datetime\r\n",
        "\r\n",
        "seed(datetime.now())\r\n",
        "\r\n",
        "num_rounds = 10**6\r\n",
        "sum_of_values = 0\r\n",
        "\r\n",
        "for _ in range(num_rounds):\r\n",
        "    sum_of_values += randint(1, 6)\r\n",
        "    \r\n",
        "print(\"The average is {}\".format(sum_of_values/(num_rounds*1.0)))"
      ],
      "execution_count": 5,
      "outputs": [
        {
          "output_type": "stream",
          "text": [
            "The average is 3.500405\n"
          ],
          "name": "stdout"
        }
      ]
    },
    {
      "cell_type": "code",
      "metadata": {
        "id": "R4aeqe96jnza"
      },
      "source": [
        ""
      ],
      "execution_count": null,
      "outputs": []
    }
  ]
}