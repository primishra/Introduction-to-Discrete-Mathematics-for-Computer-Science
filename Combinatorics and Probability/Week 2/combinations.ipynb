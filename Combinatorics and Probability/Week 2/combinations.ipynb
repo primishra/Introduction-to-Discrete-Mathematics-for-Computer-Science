{
  "nbformat": 4,
  "nbformat_minor": 0,
  "metadata": {
    "colab": {
      "name": "combinations.ipynb",
      "provenance": []
    },
    "kernelspec": {
      "name": "python3",
      "display_name": "Python 3"
    }
  },
  "cells": [
    {
      "cell_type": "code",
      "metadata": {
        "id": "6ec2ZwZneO_t"
      },
      "source": [
        "from itertools import combinations"
      ],
      "execution_count": 1,
      "outputs": []
    },
    {
      "cell_type": "code",
      "metadata": {
        "id": "-QY_slY1eXYh"
      },
      "source": [
        "combinations_all = [\"\".join(c) for c in combinations(\"abcdefghi\", 2)]"
      ],
      "execution_count": 5,
      "outputs": []
    },
    {
      "cell_type": "code",
      "metadata": {
        "id": "RNfbFhIfeqoB",
        "outputId": "1ed8c242-2839-4f86-f657-bde2bbd9e631",
        "colab": {
          "base_uri": "https://localhost:8080/"
        }
      },
      "source": [
        "combinations_all"
      ],
      "execution_count": 6,
      "outputs": [
        {
          "output_type": "execute_result",
          "data": {
            "text/plain": [
              "['ab',\n",
              " 'ac',\n",
              " 'ad',\n",
              " 'ae',\n",
              " 'af',\n",
              " 'ag',\n",
              " 'ah',\n",
              " 'ai',\n",
              " 'bc',\n",
              " 'bd',\n",
              " 'be',\n",
              " 'bf',\n",
              " 'bg',\n",
              " 'bh',\n",
              " 'bi',\n",
              " 'cd',\n",
              " 'ce',\n",
              " 'cf',\n",
              " 'cg',\n",
              " 'ch',\n",
              " 'ci',\n",
              " 'de',\n",
              " 'df',\n",
              " 'dg',\n",
              " 'dh',\n",
              " 'di',\n",
              " 'ef',\n",
              " 'eg',\n",
              " 'eh',\n",
              " 'ei',\n",
              " 'fg',\n",
              " 'fh',\n",
              " 'fi',\n",
              " 'gh',\n",
              " 'gi',\n",
              " 'hi']"
            ]
          },
          "metadata": {
            "tags": []
          },
          "execution_count": 6
        }
      ]
    },
    {
      "cell_type": "code",
      "metadata": {
        "id": "zhMRoUWResMU"
      },
      "source": [
        ""
      ],
      "execution_count": null,
      "outputs": []
    }
  ]
}