{
  "nbformat": 4,
  "nbformat_minor": 0,
  "metadata": {
    "colab": {
      "name": "Pascal's triangle.ipynb",
      "provenance": [],
      "collapsed_sections": []
    },
    "kernelspec": {
      "name": "python3",
      "display_name": "Python 3"
    }
  },
  "cells": [
    {
      "cell_type": "code",
      "metadata": {
        "id": "m2Mv31sMLDe1",
        "outputId": "d572ebd8-8ec1-42c1-c9f8-8f6ec5619004",
        "colab": {
          "base_uri": "https://localhost:8080/"
        }
      },
      "source": [
        "## Pascal's Triangle is the alternative way to find \"n choose k\"\n",
        "\n",
        "c = dict()\n",
        "\n",
        "for n in range(8):\n",
        "  c[n, 0] = 1 ## filling the left most places of the triangle\n",
        "  c[n, n] = 1 ## filling the right most places of the triangle\n",
        "\n",
        "  ## for remaining places of the traingle\n",
        "  for k in range(1, n):\n",
        "    c[n, k] = c[n-1, k-1] + c[n-1, k] ## using the rule of the combination\n",
        "  \n",
        "print(c[7, 4])"
      ],
      "execution_count": 1,
      "outputs": [
        {
          "output_type": "stream",
          "text": [
            "35\n"
          ],
          "name": "stdout"
        }
      ]
    },
    {
      "cell_type": "code",
      "metadata": {
        "id": "mZgciQXyL29g"
      },
      "source": [
        ""
      ],
      "execution_count": null,
      "outputs": []
    }
  ]
}