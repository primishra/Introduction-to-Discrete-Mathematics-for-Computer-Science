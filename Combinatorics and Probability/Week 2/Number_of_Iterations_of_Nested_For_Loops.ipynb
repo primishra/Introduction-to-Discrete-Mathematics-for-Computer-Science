{
  "nbformat": 4,
  "nbformat_minor": 0,
  "metadata": {
    "colab": {
      "name": "Number of Iterations of Nested For Loops.ipynb",
      "provenance": []
    },
    "kernelspec": {
      "name": "python3",
      "display_name": "Python 3"
    }
  },
  "cells": [
    {
      "cell_type": "code",
      "metadata": {
        "id": "fKeCKtLZ4JwA",
        "outputId": "ee526304-8d92-457a-bc44-4bdf80eb0a27",
        "colab": {
          "base_uri": "https://localhost:8080/"
        }
      },
      "source": [
        "n = 10\n",
        "count = 0\n",
        "\n",
        "for i in range(n):\n",
        "    for j in range(n):\n",
        "        for k in range(n):\n",
        "            if i < j and j < k:\n",
        "                count += 1\n",
        "\n",
        "print(count)"
      ],
      "execution_count": 1,
      "outputs": [
        {
          "output_type": "stream",
          "text": [
            "120\n"
          ],
          "name": "stdout"
        }
      ]
    },
    {
      "cell_type": "code",
      "metadata": {
        "id": "Myz9vz6d4OjK",
        "outputId": "3f69d968-4c38-43f2-9b1c-b928bef61407",
        "colab": {
          "base_uri": "https://localhost:8080/"
        }
      },
      "source": [
        "## code for 1000 choose 3.\n",
        "\n",
        "n = 1000\n",
        "count = 0\n",
        "\n",
        "for i in range(n):\n",
        "    for j in range(n):\n",
        "        for k in range(n):\n",
        "            if i < j and j < k:\n",
        "                count += 1\n",
        "\n",
        "print(count)"
      ],
      "execution_count": 4,
      "outputs": [
        {
          "output_type": "stream",
          "text": [
            "166167000\n"
          ],
          "name": "stdout"
        }
      ]
    }
  ]
}