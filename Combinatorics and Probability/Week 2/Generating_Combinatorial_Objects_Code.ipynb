{
  "nbformat": 4,
  "nbformat_minor": 0,
  "metadata": {
    "colab": {
      "name": "Generating Combinatorial Objects: Code.ipynb",
      "provenance": []
    },
    "kernelspec": {
      "name": "python3",
      "display_name": "Python 3"
    }
  },
  "cells": [
    {
      "cell_type": "code",
      "metadata": {
        "id": "Z47lr0vgZvYa",
        "outputId": "f476cf7f-7e4b-4e67-a11e-dbc515269ce1",
        "colab": {
          "base_uri": "https://localhost:8080/"
        }
      },
      "source": [
        "## Rule of Sum\n",
        "\n",
        "print([\"a\", \"b\", \"c\", \"D\"] + [0, 1,  2, 3, 4])"
      ],
      "execution_count": 1,
      "outputs": [
        {
          "output_type": "stream",
          "text": [
            "['a', 'b', 'c', 'D', 0, 1, 2, 3, 4]\n"
          ],
          "name": "stdout"
        }
      ]
    },
    {
      "cell_type": "code",
      "metadata": {
        "id": "3MCHDZUsZ9gO",
        "outputId": "5316f043-532f-41e7-fd7b-74f52e7ccd2d",
        "colab": {
          "base_uri": "https://localhost:8080/"
        }
      },
      "source": [
        "## Rule of Product\n",
        "\n",
        "from itertools import product\n",
        "for p in product(['a', 'b', 'c'], ['x', 'y']):\n",
        "  print(\"\".join(p))"
      ],
      "execution_count": 2,
      "outputs": [
        {
          "output_type": "stream",
          "text": [
            "ax\n",
            "ay\n",
            "bx\n",
            "by\n",
            "cx\n",
            "cy\n"
          ],
          "name": "stdout"
        }
      ]
    },
    {
      "cell_type": "code",
      "metadata": {
        "id": "W_Yg0MleaCZd",
        "outputId": "f1d3e9d5-f2af-4f8c-e214-c6b53dbc60ec",
        "colab": {
          "base_uri": "https://localhost:8080/"
        }
      },
      "source": [
        "## Tuples\n",
        "\n",
        "from itertools import product\n",
        "for p in product(\"ab\", repeat=3):\n",
        "  print(\"\".join(p))"
      ],
      "execution_count": 3,
      "outputs": [
        {
          "output_type": "stream",
          "text": [
            "aaa\n",
            "aab\n",
            "aba\n",
            "abb\n",
            "baa\n",
            "bab\n",
            "bba\n",
            "bbb\n"
          ],
          "name": "stdout"
        }
      ]
    },
    {
      "cell_type": "code",
      "metadata": {
        "id": "1Vc04-6xaF8h",
        "outputId": "bfa1777e-a438-47da-bda7-6919135df120",
        "colab": {
          "base_uri": "https://localhost:8080/"
        }
      },
      "source": [
        "## Permutations\n",
        "\n",
        "from itertools import permutations\n",
        "for p in permutations(\"abcd\", 2):\n",
        "  print(\"\".join(p))"
      ],
      "execution_count": 4,
      "outputs": [
        {
          "output_type": "stream",
          "text": [
            "ab\n",
            "ac\n",
            "ad\n",
            "ba\n",
            "bc\n",
            "bd\n",
            "ca\n",
            "cb\n",
            "cd\n",
            "da\n",
            "db\n",
            "dc\n"
          ],
          "name": "stdout"
        }
      ]
    },
    {
      "cell_type": "code",
      "metadata": {
        "id": "gFWJOHV-aKBo"
      },
      "source": [
        ""
      ],
      "execution_count": null,
      "outputs": []
    }
  ]
}