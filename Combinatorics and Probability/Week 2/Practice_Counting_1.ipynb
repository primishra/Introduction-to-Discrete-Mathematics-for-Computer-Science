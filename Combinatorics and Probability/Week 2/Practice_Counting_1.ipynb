{
  "nbformat": 4,
  "nbformat_minor": 0,
  "metadata": {
    "colab": {
      "name": "Practice Counting 1.ipynb",
      "provenance": [],
      "collapsed_sections": []
    },
    "kernelspec": {
      "name": "python3",
      "display_name": "Python 3"
    }
  },
  "cells": [
    {
      "cell_type": "code",
      "metadata": {
        "id": "x6Y5zNnsz-kT"
      },
      "source": [
        "## Number of non-negative integers with at most 4 digits at leasst one of which is equal to 7."
      ],
      "execution_count": 1,
      "outputs": []
    },
    {
      "cell_type": "code",
      "metadata": {
        "id": "CwzSbOBW0Vb8"
      },
      "source": [
        "from itertools import product\n",
        "\n",
        "## itertools product returns the cartesian product"
      ],
      "execution_count": 2,
      "outputs": []
    },
    {
      "cell_type": "code",
      "metadata": {
        "id": "phn6FpbD0YwH",
        "outputId": "57836519-7c9b-439e-c362-ea3ba2480e0c",
        "colab": {
          "base_uri": "https://localhost:8080/"
        }
      },
      "source": [
        "count = 0\n",
        "\n",
        "for number in product(range(10), repeat = 4):\n",
        "  if 7 in number:\n",
        "    count = count+1\n",
        "\n",
        "print(count)\n",
        "print(10**4 - 9**4)"
      ],
      "execution_count": 8,
      "outputs": [
        {
          "output_type": "stream",
          "text": [
            "3439\n",
            "3439\n"
          ],
          "name": "stdout"
        }
      ]
    },
    {
      "cell_type": "code",
      "metadata": {
        "id": "QMjjGxUR0fzg"
      },
      "source": [
        ""
      ],
      "execution_count": null,
      "outputs": []
    }
  ]
}