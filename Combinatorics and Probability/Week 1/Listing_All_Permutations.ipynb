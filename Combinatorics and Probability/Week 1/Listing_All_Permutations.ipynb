{
  "nbformat": 4,
  "nbformat_minor": 0,
  "metadata": {
    "colab": {
      "name": "Listing All Permutations.ipynb",
      "provenance": []
    },
    "kernelspec": {
      "name": "python3",
      "display_name": "Python 3"
    }
  },
  "cells": [
    {
      "cell_type": "code",
      "metadata": {
        "id": "Oz75VGKtXItY"
      },
      "source": [
        "from itertools import permutations"
      ],
      "execution_count": 1,
      "outputs": []
    },
    {
      "cell_type": "code",
      "metadata": {
        "id": "xVNGYVg_XTdM",
        "outputId": "383fd956-ab38-4808-fb10-2873eddfaee0",
        "colab": {
          "base_uri": "https://localhost:8080/"
        }
      },
      "source": [
        "for permutation in permutations(\"arews\", 4):\n",
        "  print(\"\".join(permutation))"
      ],
      "execution_count": 2,
      "outputs": [
        {
          "output_type": "stream",
          "text": [
            "arew\n",
            "ares\n",
            "arwe\n",
            "arws\n",
            "arse\n",
            "arsw\n",
            "aerw\n",
            "aers\n",
            "aewr\n",
            "aews\n",
            "aesr\n",
            "aesw\n",
            "awre\n",
            "awrs\n",
            "awer\n",
            "awes\n",
            "awsr\n",
            "awse\n",
            "asre\n",
            "asrw\n",
            "aser\n",
            "asew\n",
            "aswr\n",
            "aswe\n",
            "raew\n",
            "raes\n",
            "rawe\n",
            "raws\n",
            "rase\n",
            "rasw\n",
            "reaw\n",
            "reas\n",
            "rewa\n",
            "rews\n",
            "resa\n",
            "resw\n",
            "rwae\n",
            "rwas\n",
            "rwea\n",
            "rwes\n",
            "rwsa\n",
            "rwse\n",
            "rsae\n",
            "rsaw\n",
            "rsea\n",
            "rsew\n",
            "rswa\n",
            "rswe\n",
            "earw\n",
            "ears\n",
            "eawr\n",
            "eaws\n",
            "easr\n",
            "easw\n",
            "eraw\n",
            "eras\n",
            "erwa\n",
            "erws\n",
            "ersa\n",
            "ersw\n",
            "ewar\n",
            "ewas\n",
            "ewra\n",
            "ewrs\n",
            "ewsa\n",
            "ewsr\n",
            "esar\n",
            "esaw\n",
            "esra\n",
            "esrw\n",
            "eswa\n",
            "eswr\n",
            "ware\n",
            "wars\n",
            "waer\n",
            "waes\n",
            "wasr\n",
            "wase\n",
            "wrae\n",
            "wras\n",
            "wrea\n",
            "wres\n",
            "wrsa\n",
            "wrse\n",
            "wear\n",
            "weas\n",
            "wera\n",
            "wers\n",
            "wesa\n",
            "wesr\n",
            "wsar\n",
            "wsae\n",
            "wsra\n",
            "wsre\n",
            "wsea\n",
            "wser\n",
            "sare\n",
            "sarw\n",
            "saer\n",
            "saew\n",
            "sawr\n",
            "sawe\n",
            "srae\n",
            "sraw\n",
            "srea\n",
            "srew\n",
            "srwa\n",
            "srwe\n",
            "sear\n",
            "seaw\n",
            "sera\n",
            "serw\n",
            "sewa\n",
            "sewr\n",
            "swar\n",
            "swae\n",
            "swra\n",
            "swre\n",
            "swea\n",
            "swer\n"
          ],
          "name": "stdout"
        }
      ]
    },
    {
      "cell_type": "code",
      "metadata": {
        "id": "ObnGXWXMXhHD"
      },
      "source": [
        ""
      ],
      "execution_count": null,
      "outputs": []
    }
  ]
}