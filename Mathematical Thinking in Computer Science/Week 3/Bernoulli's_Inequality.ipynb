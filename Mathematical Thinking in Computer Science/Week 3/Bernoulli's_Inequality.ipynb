{
  "nbformat": 4,
  "nbformat_minor": 0,
  "metadata": {
    "colab": {
      "name": "Bernoulli's Inequality.ipynb",
      "provenance": []
    },
    "kernelspec": {
      "name": "python3",
      "display_name": "Python 3"
    }
  },
  "cells": [
    {
      "cell_type": "code",
      "metadata": {
        "id": "GNrpCnCnLuGt",
        "outputId": "3e3b6407-a842-453d-f1dc-219655914d85",
        "colab": {
          "base_uri": "https://localhost:8080/",
          "height": 279
        }
      },
      "source": [
        "%matplotlib inline\n",
        "\n",
        "import matplotlib.pyplot as plt\n",
        "import numpy as np\n",
        "\n",
        "# You can play with the range of values for n and with the base 1.02, see what changes\n",
        "sample = 200\n",
        "x = np.arange(sample)\n",
        "# This is used to plot the graph of 1.02^n, it is blue on the picture below\n",
        "y = 1.02 ** x\n",
        "plt.plot(x, y)\n",
        "plt.xlabel('n')\n",
        "plt.ylabel('Money($)')\n",
        "# This is used to plot the graph of 1 + 0.02 * n, it is green on the picture below\n",
        "z = 1 + 0.02 * x\n",
        "plt.plot(x, z)\n",
        "plt.show()"
      ],
      "execution_count": 1,
      "outputs": [
        {
          "output_type": "display_data",
          "data": {
            "image/png": "[encoded data removed]",
            "text/plain": [
              "<Figure size 432x288 with 1 Axes>"
            ]
          },
          "metadata": {
            "tags": [],
            "needs_background": "light"
          }
        }
      ]
    },
    {
      "cell_type": "code",
      "metadata": {
        "id": "C43n8L0XL3vn",
        "outputId": "f66b3167-ba95-4109-925f-e3a509561f5a",
        "colab": {
          "base_uri": "https://localhost:8080/",
          "height": 34
        }
      },
      "source": [
        "# Computes how much money you will have on day *day*, if you start with *starting_amount* of cash\n",
        "# and earn *earn_percent* percents of what you already have every day.\n",
        "def HowMuchMoney(starting_amount, earn_percent, day):\n",
        "    day_multiplier = 1 + (earn_percent / 100.0)\n",
        "    return starting_amount * (day_multiplier ** (day - 1))\n",
        "    \n",
        "def PrintExample(starting_amount, earn_percent, day):\n",
        "    print(\"If you start with $%d and earn %d%% each day, you will have more than $%.0f on day %d!\" % \n",
        "          (starting_amount, earn_percent, HowMuchMoney(starting_amount, earn_percent, day), day))\n",
        "\n",
        "# Prints what will happen by day 350 if you start with $1000 and earn 2% every day\n",
        "# Feel free to play with the parameters\n",
        "PrintExample(1000, 2, 350)"
      ],
      "execution_count": 2,
      "outputs": [
        {
          "output_type": "stream",
          "text": [
            "If you start with $1000 and earn 2% each day, you will have more than $1003367 on day 350!\n"
          ],
          "name": "stdout"
        }
      ]
    },
    {
      "cell_type": "code",
      "metadata": {
        "id": "tJkxmBuLL56I",
        "outputId": "0d7e4041-b89d-4e75-ec4b-6f40dded7eae",
        "colab": {
          "base_uri": "https://localhost:8080/",
          "height": 34
        }
      },
      "source": [
        "# Compute the number of the first day when your wealth will exceed *target_amount*,\n",
        "# if you start with *starting_amount* of cash and earn *earn_percent* percents every day\n",
        "def DayToReachTarget(starting_amount, earn_percent, target_amount):\n",
        "    day = 1\n",
        "    amount = starting_amount\n",
        "    day_multiplier = (1 + (earn_percent) / 100.0)\n",
        "    while amount < target_amount:\n",
        "        day += 1\n",
        "        amount = amount * day_multiplier\n",
        "    return day\n",
        "\n",
        "def PrintFirstDay(starting_amount, earn_percent, target_amount):\n",
        "    print(\"If you start with $%d and earn %d%% each day, you will have more than $%d on day %d for the first time!\" %\n",
        "          (starting_amount, earn_percent, target_amount, DayToReachTarget(starting_amount, earn_percent, target_amount)))\n",
        "\n",
        "# Prints when you will get more than $1000000 for the first time, if you start with $1000\n",
        "# and earn 2% every day.\n",
        "PrintFirstDay(1000, 2, 1000000)"
      ],
      "execution_count": 3,
      "outputs": [
        {
          "output_type": "stream",
          "text": [
            "If you start with $1000 and earn 2% each day, you will have more than $1000000 on day 350 for the first time!\n"
          ],
          "name": "stdout"
        }
      ]
    },
    {
      "cell_type": "code",
      "metadata": {
        "id": "VA-ORUU6L7hD"
      },
      "source": [
        ""
      ],
      "execution_count": null,
      "outputs": []
    }
  ]
}