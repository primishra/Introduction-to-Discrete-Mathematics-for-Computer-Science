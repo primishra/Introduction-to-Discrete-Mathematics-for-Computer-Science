{
  "nbformat": 4,
  "nbformat_minor": 0,
  "metadata": {
    "colab": {
      "name": "Coin Problem.ipynb",
      "provenance": []
    },
    "kernelspec": {
      "name": "python3",
      "display_name": "Python 3"
    }
  },
  "cells": [
    {
      "cell_type": "markdown",
      "metadata": {
        "id": "6qI737S92Q7v"
      },
      "source": [
        "Any monetary amount greater than 8 can be paid using coins of denominations of 3 & 5"
      ]
    },
    {
      "cell_type": "code",
      "metadata": {
        "id": "zengN-aT2bbB"
      },
      "source": [
        "def change(amount):\n",
        "  assert(amount >= 8)\n",
        "  \n",
        "  if amount == 8:\n",
        "    return [3, 5]\n",
        "\n",
        "  if amount == 9:\n",
        "    return [3, 3, 3]\n",
        "  \n",
        "  if amount == 10:\n",
        "    return [5, 5]\n",
        "  \n",
        "  coins = change(amount - 3)\n",
        "  coins.append(3)\n",
        "\n",
        "  return coins"
      ],
      "execution_count": 1,
      "outputs": []
    },
    {
      "cell_type": "code",
      "metadata": {
        "id": "y4RbKdsS3IAd",
        "outputId": "a20f2fad-5c42-45dc-e19d-48b6bf47af0d",
        "colab": {
          "base_uri": "https://localhost:8080/",
          "height": 34
        }
      },
      "source": [
        "change(23)"
      ],
      "execution_count": 5,
      "outputs": [
        {
          "output_type": "execute_result",
          "data": {
            "text/plain": [
              "[3, 5, 3, 3, 3, 3, 3]"
            ]
          },
          "metadata": {
            "tags": []
          },
          "execution_count": 5
        }
      ]
    },
    {
      "cell_type": "code",
      "metadata": {
        "id": "SQJ2VGt43JsF"
      },
      "source": [
        ""
      ],
      "execution_count": null,
      "outputs": []
    }
  ]
}