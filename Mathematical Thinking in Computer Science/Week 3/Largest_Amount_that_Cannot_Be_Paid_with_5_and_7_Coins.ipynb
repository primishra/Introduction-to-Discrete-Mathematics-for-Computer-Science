{
  "nbformat": 4,
  "nbformat_minor": 0,
  "metadata": {
    "colab": {
      "name": "Largest Amount that Cannot Be Paid with 5- and 7-Coins.ipynb",
      "provenance": [],
      "collapsed_sections": []
    },
    "kernelspec": {
      "name": "python3",
      "display_name": "Python 3"
    }
  },
  "cells": [
    {
      "cell_type": "code",
      "metadata": {
        "id": "Qo48mcbJ6uDl"
      },
      "source": [
        "def can_pay(n):\n",
        "  if n == 0:\n",
        "    return True\n",
        "  if n < 7 and n!= 5:\n",
        "    return False\n",
        "  \n",
        "  if can_pay(n-5) or can_pay(n-7):\n",
        "    return True\n",
        "  return False"
      ],
      "execution_count": 7,
      "outputs": []
    },
    {
      "cell_type": "code",
      "metadata": {
        "id": "biCzXS1A9RnF",
        "outputId": "ed43995b-cc56-4974-f52d-79ffd4ab8f4f",
        "colab": {
          "base_uri": "https://localhost:8080/",
          "height": 34
        }
      },
      "source": [
        "success = [x for x in range(100) if can_pay(x)]\n",
        "[x for x in range(100) if x not in success]"
      ],
      "execution_count": 9,
      "outputs": [
        {
          "output_type": "execute_result",
          "data": {
            "text/plain": [
              "[1, 2, 3, 4, 6, 8, 9, 11, 13, 16, 18, 23]"
            ]
          },
          "metadata": {
            "tags": []
          },
          "execution_count": 9
        }
      ]
    },
    {
      "cell_type": "code",
      "metadata": {
        "id": "ymza1AI79gc2"
      },
      "source": [
        ""
      ],
      "execution_count": null,
      "outputs": []
    }
  ]
}