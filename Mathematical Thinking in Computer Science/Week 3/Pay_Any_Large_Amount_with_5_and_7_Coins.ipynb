{
  "nbformat": 4,
  "nbformat_minor": 0,
  "metadata": {
    "colab": {
      "name": "Pay Any Large Amount with 5- and 7-Coins.ipynb",
      "provenance": []
    },
    "kernelspec": {
      "name": "python3",
      "display_name": "Python 3"
    }
  },
  "cells": [
    {
      "cell_type": "code",
      "metadata": {
        "id": "d3bbMP0y-U3q"
      },
      "source": [
        "def change(amount):\n",
        "  if amount < 0:\n",
        "    return []\n",
        "\n",
        "  if amount == 5:\n",
        "    return [5]\n",
        "  \n",
        "  if amount == 7:\n",
        "    return [7]\n",
        "  \n",
        "  coins = change(amount - 5)\n",
        "\n",
        "  if len(coins):\n",
        "    coins.append(5)\n",
        "    return coins\n",
        "  else:\n",
        "    coins = change(amount - 7)\n",
        "    if len(coins):\n",
        "      coins.append(7)\n",
        "      return coins\n",
        "    \n",
        "    return []"
      ],
      "execution_count": 5,
      "outputs": []
    },
    {
      "cell_type": "code",
      "metadata": {
        "id": "XyoMaIrK_hJO",
        "outputId": "9d82ca58-712a-46a3-d567-6f550943763e",
        "colab": {
          "base_uri": "https://localhost:8080/",
          "height": 34
        }
      },
      "source": [
        "change(24)"
      ],
      "execution_count": 6,
      "outputs": [
        {
          "output_type": "execute_result",
          "data": {
            "text/plain": [
              "[7, 7, 5, 5]"
            ]
          },
          "metadata": {
            "tags": []
          },
          "execution_count": 6
        }
      ]
    },
    {
      "cell_type": "code",
      "metadata": {
        "id": "7ox00Ln1_ioT"
      },
      "source": [
        ""
      ],
      "execution_count": null,
      "outputs": []
    }
  ]
}